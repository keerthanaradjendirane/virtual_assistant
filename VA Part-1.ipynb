{
 "cells": [
  {
   "cell_type": "code",
   "execution_count": 3,
   "id": "70d21d62",
   "metadata": {},
   "outputs": [
    {
     "name": "stdout",
     "output_type": "stream",
     "text": [
      "listening....\n",
      "Recognizing...\n",
      "User said: date\n",
      "\n",
      "listening....\n",
      "Recognizing...\n",
      "User said: time\n",
      "\n",
      "listening....\n",
      "Recognizing...\n",
      "User said: stop\n",
      "\n"
     ]
    }
   ],
   "source": [
    "import pyttsx3\n",
    "import datetime\n",
    "import speech_recognition as sr\n",
    "\n",
    "engine = pyttsx3.init()\n",
    "voices = engine.getProperty('voices')\n",
    "engine.setProperty('voice', voices[1].id)\n",
    "\n",
    "def speak(audio):\n",
    "    engine.say(audio)\n",
    "    engine.runAndWait()\n",
    "\n",
    "def wishMe():\n",
    "    hour = datetime.datetime.now().hour\n",
    "    if 0 <= hour < 12:\n",
    "        speak('good morning!')\n",
    "    elif 12 <= hour < 18:\n",
    "        speak('good afternoon!')\n",
    "    else:\n",
    "        speak('good evening!')\n",
    "    speak(\"I am NILA, your natural interactive live assistant. Please tell me how can I help you.\")\n",
    "\n",
    "def takeCommand():\n",
    "    r = sr.Recognizer()\n",
    "    with sr.Microphone() as source:\n",
    "        print('listening....')\n",
    "        r.pause_threshold = 1\n",
    "        audio = r.listen(source)\n",
    "\n",
    "    try:\n",
    "        print('Recognizing...')\n",
    "        query = r.recognize_google(audio, language='en-in')\n",
    "        print(f\"User said: {query}\\n\")\n",
    "    except Exception as e:\n",
    "        print('Can you please say that again...')\n",
    "        return \"None\"\n",
    "    return query\n",
    "\n",
    "if __name__ == '__main__':\n",
    "    wishMe()\n",
    "    while True:\n",
    "        query = takeCommand().lower()\n",
    "        if 'date' in query:\n",
    "            today_date = datetime.datetime.now().strftime(\"%Y-%m-%d\")\n",
    "            speak(f\"Today's date is {today_date}\")\n",
    "        elif 'time' in query:\n",
    "            current_time = datetime.datetime.now().strftime(\"%H:%M:%S\")\n",
    "            speak(f\"The current time is {current_time}\")\n",
    "        elif 'stop' in query:\n",
    "            speak(\"Goodbye!\")\n",
    "            break\n"
   ]
  },
  {
   "cell_type": "code",
   "execution_count": null,
   "id": "e40a45dc",
   "metadata": {},
   "outputs": [],
   "source": []
  }
 ],
 "metadata": {
  "kernelspec": {
   "display_name": "Python 3 (ipykernel)",
   "language": "python",
   "name": "python3"
  },
  "language_info": {
   "codemirror_mode": {
    "name": "ipython",
    "version": 3
   },
   "file_extension": ".py",
   "mimetype": "text/x-python",
   "name": "python",
   "nbconvert_exporter": "python",
   "pygments_lexer": "ipython3",
   "version": "3.11.5"
  }
 },
 "nbformat": 4,
 "nbformat_minor": 5
}
